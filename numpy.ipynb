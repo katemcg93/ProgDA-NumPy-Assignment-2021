{
 "cells": [
  {
   "cell_type": "markdown",
   "id": "645a8935-b044-4975-a6e6-8cb7e937e082",
   "metadata": {},
   "source": [
    "<center> <h1> Programming for Data Analytics 2021 NumPy Assignment </h1> </center>\n"
   ]
  },
  {
   "cell_type": "markdown",
   "id": "ecd64de8-549f-4c25-8411-02c4846438c6",
   "metadata": {},
   "source": [
    "<div align=\"center\"> <b> Student Name: Kate McGrath </b> </div>\n",
    "<div align=\"center\"> <b> Student Number: G00398908 </b>  </div>\n",
    "<div align=\"center\"> <b> Submission Date: 11/11/2021 </b> </div>"
   ]
  },
  {
   "cell_type": "markdown",
   "id": "c606cbde-643b-40bc-8efa-c60569f5be5d",
   "metadata": {},
   "source": [
    "<center> <h1> Part One: Overview of NumPy Random Package </h1> </center>"
   ]
  },
  {
   "cell_type": "markdown",
   "id": "98d578f5-3d4c-42ae-888a-2f62fada58c8",
   "metadata": {},
   "source": [
    "### Introduction\n",
    "\n",
    "NumPy, or Numerical Python, is one of the most widely used scientific libraries in Python programming [1]. \n",
    "\n",
    "An open-source library, created in 2005 by Travis Oliphant [2], it has become the de facto standard for working with numerical data in Python, and is used by everyone from beginners to experienced researchers at the cutting edge of scientific and commercial R&D [3]. Additionally, several other Python analytical libraries have been built on top of NumPy, including Pandas, Scikit-learn and Matplotlib [1]. \n",
    "\n",
    "The NumPy random package is a module within NumPy that allows for the generation of pseudo-random numbers. Random numbers are those where the sequence of generation cannot be predicted logically. Random numbers hComputers are deterministic, meaning that they are specifically programmed to eliminate randomness in outputs by following rules and adhering to algorithms during computation. Hence, computers are incapable of generating truly random numbers. The main purpose of the NumPy random module is to overcome this issue by generating pseudorandom numbers of various distributions; these are sequences of numbers that have all the statistial properties required from random numbers but are generated deterministically. \n",
    "\n",
    "This notebook will discuss the overall purpose of NumPy and the random package, and provide an overview of some of the features and distributions available within the random module. \n",
    "\n",
    "### Getting Started with NumPy\n",
    "The only prerequisite to installing NumPy is Python itself. For convenience, the Anaconda distribution is recommended for beginners as it comes with NumPy, Python and other statistical Python packages pre-installed. \n",
    "\n",
    "To install NumPy on its own, the following command can be used:\n"
   ]
  },
  {
   "cell_type": "code",
   "execution_count": null,
   "id": "4df9f807-51d8-4da6-90fb-f8198bc9c25d",
   "metadata": {},
   "outputs": [],
   "source": [
    "pip install numpy"
   ]
  },
  {
   "cell_type": "markdown",
   "id": "ec985cef-f418-4944-9ff0-4f0d9e587ef2",
   "metadata": {},
   "source": [
    "In order to use NumPy Random, the library should be imported using the following command:"
   ]
  },
  {
   "cell_type": "code",
   "execution_count": null,
   "id": "2d590226-c6db-47ba-b7fa-246a42a0067b",
   "metadata": {},
   "outputs": [],
   "source": [
    "import numpy as np\n",
    "from numpy import random"
   ]
  },
  {
   "cell_type": "markdown",
   "id": "3e96b168-a395-4692-b24a-3e5896aec0b8",
   "metadata": {
    "tags": []
   },
   "source": [
    "## Overview of Numpy Arrays ##\n",
    "\n",
    "NumPy's core object is the multidimensional array (ndarray), which is essentially a fast and flexible container, built to facilitate batch numerical operations on blocks of data. \n",
    "\n",
    "### NumPy Arrays vs Python Lists\n",
    "\n",
    "The key advantage of using NumPy arrays for numerical computations rather than Python lists is that the former is designed for efficiency on large arrays of data. NumPy arrays are significantly faster than Python lists for the following reasons:\n",
    "\n",
    "1. NumPy arrays are homogeneous, i.e. consisting of a single data type and allocated to a continuous block of memory (continuous). To access the next element stored in an array, the programme simply needs to move to the next memory address. In contrast, Python lists are heterogeneous (not confined to a single data type) and stored in non-consecutive memory locations; both of these factors contribute to processing overhead.\n",
    "2. The NumPy package breaks down a task into multiple fragments and processes them in parallel. \n",
    "3. NumPy incorporates elements of the C, C++ and Fortran programming languages in Python. These are low level languages and therefore have a reduced execution time compared to Python.\n",
    "\n",
    "https://www.geeksforgeeks.org/why-numpy-is-faster-in-python/\n",
    "\n",
    "In addition to the speed advantages, NumPy arrays allow for operations on singular elements within the array without requiring loops, and consume less memory than their Python list counterparts. \n",
    "\n",
    "The below code illustrates how lists and arrays differ in terms of speed. Two Python lists and Numpy arrays of equal size are initialized. First the elements in list 1 and list 2 are mapped to their equivalents and multiplied, then this process is repeated for the Python lists. Then, the time taken to perform these operations is compared. When the code is run, we can see a significant difference in processing speeds between the two actions. Source for code - https://www.geeksforgeeks.org/why-numpy-is-faster-in-python/."
   ]
  },
  {
   "cell_type": "code",
   "execution_count": 6,
   "id": "f62bf99c-0536-431d-9efe-260f5737bfac",
   "metadata": {
    "collapsed": true,
    "jupyter": {
     "outputs_hidden": true
    },
    "tags": []
   },
   "outputs": [
    {
     "name": "stdout",
     "output_type": "stream",
     "text": [
      "Time taken to complete in seconds: 0.41204047203063965\n",
      "Time taken to complete in seconds: 0.003030538558959961\n",
      "Time difference in seconds: 0.4090099334716797\n"
     ]
    }
   ],
   "source": [
    "import numpy as np\n",
    "import time\n",
    "from sys import getsizeof\n",
    "\n",
    "size = 1000000\n",
    "\n",
    "list1 = range(size)\n",
    "list2 = range(size)\n",
    "\n",
    "#Need to get current time to second to subtract from time taken to complete operation\n",
    "startTime = time.time()\n",
    "\n",
    "newlist = []\n",
    "\n",
    "#This code is zipping list 1 and 2 together - mapping each list1 value to its corresponding list2 value and multiplying them\n",
    "#Then adding them to new list\n",
    "for a,b in zip(list1,list2):\n",
    "    newlist.append(a*b)\n",
    "\n",
    "TimeNow = time.time()\n",
    "TimeTaken = TimeNow - startTime\n",
    "print(\"Time taken to complete in seconds: {}\".format(TimeTaken))\n",
    "\n",
    "#Declaring Arrays\n",
    "array1 = np.arange(size)  \n",
    "array2 = np.arange(size)\n",
    "\n",
    "startTimeNumpy = time.time()\n",
    "\n",
    "NewArray = array1* array2\n",
    "\n",
    "TimeNowNumpy = time.time()\n",
    "TimeTakenNumpy = TimeNowNumpy - startTimeNumpy\n",
    "print(\"Time taken to complete in seconds: {}\".format(TimeTakenNumpy))\n",
    "print(\"Time difference in seconds: {}\".format(TimeTaken - TimeTakenNumpy))"
   ]
  },
  {
   "cell_type": "markdown",
   "id": "c3c7374c-1e9d-48a3-aab2-25d0442caee3",
   "metadata": {},
   "source": [
    "Furthermore, the Python list consumes more than twice the amount of memory used by the Numpy array."
   ]
  },
  {
   "cell_type": "code",
   "execution_count": 5,
   "id": "d8664fea-61c9-4050-90e2-ff4cbdff1b95",
   "metadata": {
    "tags": []
   },
   "outputs": [
    {
     "name": "stdout",
     "output_type": "stream",
     "text": [
      "Total memory consumed by Python List: 8697456 bytes\n",
      "Total memory consumed by Numpy Array: 4000104 bytes\n",
      "Memory difference in bytes: 4697352\n"
     ]
    }
   ],
   "source": [
    "#Checking difference in memory consumption between numpy array and python list\n",
    "totalMemoryList = getsizeof(newlist)\n",
    "totalMemoryNumpy = getsizeof(NewArray)\n",
    "\n",
    "print(\"Total memory consumed by Python List: {} bytes\".format(totalMemoryList))\n",
    "print(\"Total memory consumed by Numpy Array: {} bytes\".format(totalMemoryNumpy))\n",
    "print(\"Memory difference in bytes: {}\".format(totalMemoryList - totalMemoryNumpy))"
   ]
  },
  {
   "cell_type": "markdown",
   "id": "e212022b-415d-4aab-abf6-137a1c40991f",
   "metadata": {},
   "source": [
    "### Numpy Array Attributes\n",
    "\n",
    "NumPy arrays are defined by the following key attributes:\n",
    "\n",
    "1. **Dimensions** :NumPy arrays can be considered as a grid of values, \twith a defined number of rows and columns.  In the NumPy package, rows and columns are referred to as dimensions. A vector consists of a single dimension, a matrix contains two dimensions, and a tensor comprises three or more dimensions.  Each dimension has a corresponding axis, starting at index [0]. Axes are used to locate and operate on elements within a specific dimension. Below is an illustration of one, two and three-dimensional arrays and their axes/elements. \n",
    "\n",
    "<p align=\"center\">\n",
    "    <img src=\"numpy-array-xyz-axis.png\"\n",
    "     alt=\"Markdown Monster icon\"\n",
    "     style=\"float: left; margin-right: 10px;\"/> \n",
    "</p>\n"
   ]
  },
  {
   "cell_type": "markdown",
   "id": "270ed5af-be2d-4fb5-90b7-57a2ba750fe7",
   "metadata": {},
   "source": [
    "Run the below code to see examples of one, two and three-dimensional arrays."
   ]
  },
  {
   "cell_type": "code",
   "execution_count": 9,
   "id": "06e928e2-60c8-4444-8b85-6dc10c97917e",
   "metadata": {},
   "outputs": [
    {
     "name": "stdout",
     "output_type": "stream",
     "text": [
      "[1 2 3]\n",
      "[[1 2]\n",
      " [3 4]]\n",
      "[[1 2]\n",
      " [3 4]\n",
      " [5 6]]\n"
     ]
    }
   ],
   "source": [
    "oneDArray = np.array ([1,2,3])\n",
    "print(oneDArray)\n",
    "\n",
    "twoDArray = np.array ([(1,2), (3,4)])\n",
    "print(twoDArray)\n",
    "\n",
    "threeDArray = np.array ([(1,2), (3,4), (5,6)])\n",
    "print(threeDArray)"
   ]
  },
  {
   "cell_type": "markdown",
   "id": "b626559e-2d2d-4165-80db-c3045af57937",
   "metadata": {},
   "source": []
  },
  {
   "cell_type": "markdown",
   "id": "69419d25-44aa-499c-8f26-fcd61f1eebc8",
   "metadata": {},
   "source": [
    "## References\n",
    "1. Analytics Vidhya. 2021. The Ultimate NumPy Tutorial for Data Science Beginners. [online] Available at: <https://www.analyticsvidhya.com/blog/2020/04/the-ultimate-numpy-tutorial-for-data-science-beginners/> [Accessed 16 October 2021].\n",
    "\n",
    "2. W3schools.com. 2021. Introduction to NumPy. [online] Available at: <https://www.w3schools.com/python/numpy/numpy_intro.asp> [Accessed 16 October 2021].\n",
    "\n",
    "3. Numpy.org. 2021. NumPy: the absolute basics for beginners — NumPy v1.21 Manual. [online] Available at: <https://numpy.org/doc/stable/user/absolute_beginners.html> [Accessed 16 October 2021].\n",
    "\n",
    "4. Numpy.org. 2021. NumPy quickstart — NumPy v1.21 Manual. [online] Available at: <https://numpy.org/doc/stable/user/quickstart.html> [Accessed 16 October 2021].\n",
    "\n",
    "5. Medium. 2021. NumPy for Dummies. [online] Available at: <https://medium.datadriveninvestor.com/numpy-for-dummies-3dbd5f946731> [Accessed 16 October 2021].\n",
    "\n",
    "6. Numpy.org. 2021. Installing Numpy. [online] Available at: <https://numpy.org/install/> [Accessed 16 October 2021].\n",
    "\n",
    "7. DataCamp. 2021. [online] Available at: <https://www.datacamp.com/community/tutorials/python-numpy-tutorial#a> [Accessed 16 October 2021]."
   ]
  },
  {
   "cell_type": "code",
   "execution_count": null,
   "id": "68291a99-31af-4885-ba22-db3a4a56ede7",
   "metadata": {},
   "outputs": [],
   "source": []
  },
  {
   "cell_type": "code",
   "execution_count": null,
   "id": "59723d91-801c-4b31-b2e3-46a1fbba68df",
   "metadata": {},
   "outputs": [],
   "source": []
  },
  {
   "cell_type": "code",
   "execution_count": null,
   "id": "db69c9dc-6ec3-4e9a-90ab-1e81e700f782",
   "metadata": {},
   "outputs": [],
   "source": []
  }
 ],
 "metadata": {
  "kernelspec": {
   "display_name": "Python 3",
   "language": "python",
   "name": "python3"
  },
  "language_info": {
   "codemirror_mode": {
    "name": "ipython",
    "version": 3
   },
   "file_extension": ".py",
   "mimetype": "text/x-python",
   "name": "python",
   "nbconvert_exporter": "python",
   "pygments_lexer": "ipython3",
   "version": "3.8.8"
  }
 },
 "nbformat": 4,
 "nbformat_minor": 5
}
