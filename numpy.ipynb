{
 "cells": [
  {
   "cell_type": "markdown",
   "id": "645a8935-b044-4975-a6e6-8cb7e937e082",
   "metadata": {},
   "source": [
    "<center> <h1> Programming for Data Analytics 2021 NumPy Assignment </h1> </center>\n"
   ]
  },
  {
   "cell_type": "markdown",
   "id": "ecd64de8-549f-4c25-8411-02c4846438c6",
   "metadata": {},
   "source": [
    "<div align=\"center\"> <b> Student Name: Kate McGrath </b> </div>\n",
    "<div align=\"center\"> <b> Student Number: G00398908 </b>  </div>\n",
    "<div align=\"center\"> <b> Submission Date: 11/11/2021 </b> </div>"
   ]
  },
  {
   "cell_type": "markdown",
   "id": "c606cbde-643b-40bc-8efa-c60569f5be5d",
   "metadata": {},
   "source": [
    "<center> <h1> Part One: Overview of NumPy Package </h1> </center>"
   ]
  },
  {
   "cell_type": "markdown",
   "id": "98d578f5-3d4c-42ae-888a-2f62fada58c8",
   "metadata": {},
   "source": [
    "### Introduction\n",
    "\n",
    "NumPy, or Numerical Python, is one of the most widely used scientific libraries in Python programming [1]. \n",
    "\n",
    "An open-source library, created in 2005 by Travis Oliphant [2], it has become the de facto standard for working with numerical data in Python, and is used by everyone from beginners to experienced researchers at the cutting edge of scientific and commercial R&D [3]. Additionally, several other Python analytical libraries have been built on top of NumPy, including Pandas, Scikit-learn and Matplotlib [1]. \n",
    "\n",
    "This notebook provides a comprehensive overview of the NumPy package, its key features and instructions for their use.\n",
    "\n",
    "### Getting Started with NumPy\n",
    "The only prerequisite to installing NumPy is Python itself. For convenience, the Anaconda distribution is recommended for beginners as it comes with NumPy, Python and other statistical Python packages pre-installed. \n",
    "\n",
    "To install NumPy on its own, the following command can be used:\n"
   ]
  },
  {
   "cell_type": "code",
   "execution_count": null,
   "id": "4df9f807-51d8-4da6-90fb-f8198bc9c25d",
   "metadata": {},
   "outputs": [],
   "source": [
    "pip install numpy"
   ]
  },
  {
   "cell_type": "markdown",
   "id": "ec985cef-f418-4944-9ff0-4f0d9e587ef2",
   "metadata": {},
   "source": [
    "In order to use NumPy, the library should be imported using the following command:"
   ]
  },
  {
   "cell_type": "code",
   "execution_count": null,
   "id": "2d590226-c6db-47ba-b7fa-246a42a0067b",
   "metadata": {},
   "outputs": [],
   "source": [
    "import numpy as np"
   ]
  },
  {
   "cell_type": "markdown",
   "id": "3e96b168-a395-4692-b24a-3e5896aec0b8",
   "metadata": {
    "tags": []
   },
   "source": [
    "### Overview of Numpy Arrays ##\n",
    "\n",
    "\n",
    "NumPy's core object is the multidimensional array (ndarray), which is essentially a fast and flexible container, built to facilitate batch numerical operations on blocks of data. Ndarrys are homogeneous, meaning that all data stored within the array must be of the same type. Each array has a shape, which is a tuple that indicates the nu\n",
    "\n",
    "An ndarray can be considered as a grid of values, where the elements are analogous to the **rows**, while the indexes correspond to the **columns** [4][7]. An array with a single column (one-dimensional) is referred to as a vector, and matrices are arrays with multiple columns **(n-dimensional)**.\n",
    "\n",
    "\n",
    "<div align=\"center\"> <b>Figure One: 1, 2 and 3-D NumPy Arrays</b> </div>\n",
    "\n",
    "\n",
    "\n",
    "![One, two and Three Dimensional Numpy Arrays](https://miro.medium.com/max/1400/1*zOyDfDLcCasA02D-S_ocCA.png)\n",
    "[Source](https://towardsdatascience.com/numpy-basics-for-people-in-a-hurry-8e05781503f) \n",
    "\n",
    "Run the below code to see examples of one-dimensional, two-dimensional and three-dimensional arrays."
   ]
  },
  {
   "cell_type": "code",
   "execution_count": 4,
   "id": "b0e9e7e0-8ddc-4faa-a6de-169a7d2c728b",
   "metadata": {},
   "outputs": [
    {
     "name": "stdout",
     "output_type": "stream",
     "text": [
      "[1 2 3]\n",
      "[[1 2]\n",
      " [3 4]]\n",
      "[[1 2]\n",
      " [3 4]\n",
      " [5 6]]\n"
     ]
    }
   ],
   "source": [
    "oneDArray = np.array ([1,2,3])\n",
    "print(oneDArray)\n",
    "\n",
    "twoDArray = np.array ([(1,2), (3,4)])\n",
    "print(twoDArray)\n",
    "\n",
    "threeDArray = np.array ([(1,2), (3,4), (5,6)])\n",
    "print(threeDArray)"
   ]
  },
  {
   "cell_type": "markdown",
   "id": "b626559e-2d2d-4165-80db-c3045af57937",
   "metadata": {},
   "source": [
    "In NumPy, dimensions are also referred to as **axes**. They are numbered, starting at 0. In a two-dimensional array, the rows are indicated as \"axis 0\", while the columns are at \"axis 1\". The number of the axis increases in accordance with the number of dimensions; in 3-D arrays, an additional \"axis 2\" will be present [2]."
   ]
  },
  {
   "cell_type": "markdown",
   "id": "69419d25-44aa-499c-8f26-fcd61f1eebc8",
   "metadata": {},
   "source": [
    "## References\n",
    "1. Analytics Vidhya. 2021. The Ultimate NumPy Tutorial for Data Science Beginners. [online] Available at: <https://www.analyticsvidhya.com/blog/2020/04/the-ultimate-numpy-tutorial-for-data-science-beginners/> [Accessed 16 October 2021].\n",
    "\n",
    "2. W3schools.com. 2021. Introduction to NumPy. [online] Available at: <https://www.w3schools.com/python/numpy/numpy_intro.asp> [Accessed 16 October 2021].\n",
    "\n",
    "3. Numpy.org. 2021. NumPy: the absolute basics for beginners — NumPy v1.21 Manual. [online] Available at: <https://numpy.org/doc/stable/user/absolute_beginners.html> [Accessed 16 October 2021].\n",
    "\n",
    "4. Numpy.org. 2021. NumPy quickstart — NumPy v1.21 Manual. [online] Available at: <https://numpy.org/doc/stable/user/quickstart.html> [Accessed 16 October 2021].\n",
    "\n",
    "5. Medium. 2021. NumPy for Dummies. [online] Available at: <https://medium.datadriveninvestor.com/numpy-for-dummies-3dbd5f946731> [Accessed 16 October 2021].\n",
    "\n",
    "6. Numpy.org. 2021. Installing Numpy. [online] Available at: <https://numpy.org/install/> [Accessed 16 October 2021].\n",
    "\n",
    "7. DataCamp. 2021. [online] Available at: <https://www.datacamp.com/community/tutorials/python-numpy-tutorial#a> [Accessed 16 October 2021]."
   ]
  },
  {
   "cell_type": "code",
   "execution_count": null,
   "id": "68291a99-31af-4885-ba22-db3a4a56ede7",
   "metadata": {},
   "outputs": [],
   "source": []
  },
  {
   "cell_type": "code",
   "execution_count": null,
   "id": "59723d91-801c-4b31-b2e3-46a1fbba68df",
   "metadata": {},
   "outputs": [],
   "source": []
  },
  {
   "cell_type": "code",
   "execution_count": null,
   "id": "db69c9dc-6ec3-4e9a-90ab-1e81e700f782",
   "metadata": {},
   "outputs": [],
   "source": []
  }
 ],
 "metadata": {
  "kernelspec": {
   "display_name": "Python 3",
   "language": "python",
   "name": "python3"
  },
  "language_info": {
   "codemirror_mode": {
    "name": "ipython",
    "version": 3
   },
   "file_extension": ".py",
   "mimetype": "text/x-python",
   "name": "python",
   "nbconvert_exporter": "python",
   "pygments_lexer": "ipython3",
   "version": "3.8.8"
  }
 },
 "nbformat": 4,
 "nbformat_minor": 5
}
