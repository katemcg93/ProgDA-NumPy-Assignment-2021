{
 "cells": [
  {
   "cell_type": "markdown",
   "id": "57764a58-aedd-4e14-93a2-5e221ec4662d",
   "metadata": {},
   "source": [
    "<center> <h1> Programming for Data Analytics 2021 NumPy Assignment </h1> </center>"
   ]
  },
  {
   "cell_type": "markdown",
   "id": "119851bf-d88e-4f22-8ea3-7afbde7afe51",
   "metadata": {},
   "source": [
    "<div align=\"center\"> <b> Student Name: Kate McGrath </b> </div>\n",
    "<div align=\"center\"> <b> Student Number: G00398908 </b>  </div>\n",
    "<div align=\"center\"> <b> Submission Date: 19/11/2021 </b> </div>"
   ]
  },
  {
   "cell_type": "markdown",
   "id": "0e791a22-2873-4d78-947c-346843eb39a6",
   "metadata": {},
   "source": [
    "<center> <h2> Part One: Purpose of NumPy Random Package </h2> </center>"
   ]
  },
  {
   "cell_type": "markdown",
   "id": "26aca4de-399a-4dfc-a360-1aee24b545e0",
   "metadata": {},
   "source": [
    "<center> <h3> 1.1. Introduction to NumPy (Numerical Python) </h3> </center>\n",
    "\n",
    "\n",
    "\n"
   ]
  },
  {
   "cell_type": "markdown",
   "id": "1c7cdf8f-94cb-4228-bbec-4e7afcfa06b1",
   "metadata": {},
   "source": [
    "NumPy, or Numerical Python, is one of the most widely used scientific libraries in Python programming [1].\n",
    "\n",
    "An open-source library, created in 2005 by Travis Oliphant [2], it has become the de facto standard for working with numerical data in Python, and is used by everyone from beginners to experienced researchers at the cutting edge of scientific and commercial R&D [3]. Additionally, several other Python analytical libraries have been built on top of NumPy, including Pandas, Scikit-learn and Matplotlib [1]. \n",
    "\n",
    "<center> <h4>Multidimensional Arrays</h4> </center>\n",
    "\n",
    "NumPy's core object is the multidimensional array (ndarray), which is essentially a fast and flexible container, built to facilitate batch numerical operations on blocks of data.The key advantage of using NumPy arrays for numerical computations rather than Python lists is that the former is designed for efficiency on large arrays of data. \n",
    "\n",
    "NumPy arrays can be considered as a grid of values, with a defined number of rows and columns.  In the NumPy package, rows and columns are referred to as dimensions. A vector consists of a single dimension, a matrix contains two dimensions, and a tensor comprises three or more dimensions.  Each dimension has a corresponding axis, starting at index [0]. Axes are used to locate and operate on elements within a specific dimension.\n",
    "\n",
    "Run the below code to see examples of one, two and three-dimensional arrays.\n"
   ]
  },
  {
   "cell_type": "code",
   "execution_count": 8,
   "id": "e577c0d2-f887-48f6-a6a3-5d4ba022eba3",
   "metadata": {
    "collapsed": true,
    "jupyter": {
     "outputs_hidden": true,
     "source_hidden": true
    },
    "tags": []
   },
   "outputs": [
    {
     "name": "stdout",
     "output_type": "stream",
     "text": [
      "[1 2 3]\n",
      "[[1 2]\n",
      " [3 4]]\n",
      "[[1 2]\n",
      " [3 4]\n",
      " [5 6]]\n"
     ]
    }
   ],
   "source": [
    "oneDArray = np.array ([1,2,3])\n",
    "print(oneDArray)\n",
    "\n",
    "twoDArray = np.array ([(1,2), (3,4)])\n",
    "print(twoDArray)\n",
    "\n",
    "threeDArray = np.array ([(1,2), (3,4), (5,6)])\n",
    "print(threeDArray)"
   ]
  },
  {
   "cell_type": "markdown",
   "id": "0490e0e0-6037-431a-af54-dca07017b90f",
   "metadata": {},
   "source": [
    "<center> <h4>NumPy Arrays vs Python Lists</h4> </center>\n",
    "\n",
    "NumPy arrays are significantly faster than Python lists for the following reasons:\n",
    "\n",
    "1. NumPy arrays are homogeneous, i.e. consisting of a single data type and allocated to a continuous block of memory (continuous). To access the next element stored in an array, the programme simply needs to move to the next memory address. In contrast, Python lists are heterogeneous (not confined to a single data type) and stored in non-consecutive memory locations; both of these factors contribute to processing overhead.\n",
    "2. The NumPy package breaks down a task into multiple fragments and processes them in parallel. \n",
    "3. NumPy incorporates elements of the C, C++ and Fortran programming languages in Python. These are low level languages and therefore have a reduced execution time compared to Python.\n",
    "\n",
    "In addition to the speed advantages, NumPy arrays allow for operations on singular elements within the array without requiring loops, and consume less memory than their Python list counterparts. The below code illustrates the performance advantages of NumPy arrays over python lists, in terms of speed and memory usage. "
   ]
  },
  {
   "cell_type": "code",
   "execution_count": 5,
   "id": "ee2bd385-1e95-413b-afee-f3860aaa73b9",
   "metadata": {
    "collapsed": true,
    "jupyter": {
     "outputs_hidden": true,
     "source_hidden": true
    },
    "tags": []
   },
   "outputs": [
    {
     "name": "stdout",
     "output_type": "stream",
     "text": [
      "Time taken to complete in seconds: 0.5237135887145996\n",
      "Time taken to complete in seconds: 0.0019936561584472656\n",
      "Time difference in seconds: 0.5217199325561523\n",
      "Total memory consumed by Python List: 8697456 bytes\n",
      "Total memory consumed by Numpy Array: 4000104 bytes\n",
      "Memory difference in bytes: 4697352\n"
     ]
    }
   ],
   "source": [
    "\n",
    "\n",
    "\n",
    "import numpy as np\n",
    "import time\n",
    "from sys import getsizeof\n",
    "\n",
    "size = 1000000\n",
    "\n",
    "list1 = range(size)\n",
    "list2 = range(size)\n",
    "\n",
    "#Need to get current time to second to subtract from time taken to complete operation\n",
    "startTime = time.time()\n",
    "\n",
    "newlist = []\n",
    "\n",
    "#This code is zipping list 1 and 2 together - mapping each list1 value to its corresponding list2 value and multiplying them\n",
    "#Then adding them to new list\n",
    "for a,b in zip(list1,list2):\n",
    "    newlist.append(a*b)\n",
    "\n",
    "TimeNow = time.time()\n",
    "TimeTaken = TimeNow - startTime\n",
    "print(\"Time taken to complete in seconds: {}\".format(TimeTaken))\n",
    "\n",
    "#Declaring Arrays\n",
    "array1 = np.arange(size)  \n",
    "array2 = np.arange(size)\n",
    "\n",
    "startTimeNumpy = time.time()\n",
    "\n",
    "NewArray = array1* array2\n",
    "\n",
    "TimeNowNumpy = time.time()\n",
    "TimeTakenNumpy = TimeNowNumpy - startTimeNumpy\n",
    "print(\"Time taken to complete in seconds: {}\".format(TimeTakenNumpy))\n",
    "print(\"Time difference in seconds: {}\".format(TimeTaken - TimeTakenNumpy))\n",
    "\n",
    "\n",
    "#Checking difference in memory consumption between numpy array and python list\n",
    "totalMemoryList = getsizeof(newlist)\n",
    "totalMemoryNumpy = getsizeof(NewArray)\n",
    "\n",
    "print(\"Total memory consumed by Python List: {} bytes\".format(totalMemoryList))\n",
    "print(\"Total memory consumed by Numpy Array: {} bytes\".format(totalMemoryNumpy))\n",
    "print(\"Memory difference in bytes: {}\".format(totalMemoryList - totalMemoryNumpy))"
   ]
  },
  {
   "cell_type": "markdown",
   "id": "e1ac7f45-ef7d-4e18-8dca-abc5e0e0ab19",
   "metadata": {},
   "source": [
    "<center> <h4>Getting Started with NumPy</h4> </center>\n"
   ]
  },
  {
   "cell_type": "markdown",
   "id": "c7b9cef0-4a57-4601-82b9-ce7c618b5da7",
   "metadata": {},
   "source": [
    "The only prerequisite to installing NumPy is Python itself. For convenience, the Anaconda distribution is recommended for beginners as it comes with NumPy, Python and other statistical Python packages pre-installed. \n",
    "\n",
    "To install NumPy on its own, the following command can be used:"
   ]
  },
  {
   "cell_type": "code",
   "execution_count": 19,
   "id": "98356333-d917-42fc-8774-1518a36314ea",
   "metadata": {
    "tags": []
   },
   "outputs": [
    {
     "name": "stdout",
     "output_type": "stream",
     "text": [
      "Requirement already satisfied: numpy in c:\\users\\owner\\anaconda3\\lib\\site-packages (1.20.1)\n",
      "Note: you may need to restart the kernel to use updated packages.\n"
     ]
    }
   ],
   "source": [
    "pip install numpy"
   ]
  },
  {
   "cell_type": "markdown",
   "id": "e5539d27-1048-46a5-8e81-e4fbf4ab5223",
   "metadata": {},
   "source": [
    "In order to use NumPy Random, the library should be imported using the following command:"
   ]
  },
  {
   "cell_type": "code",
   "execution_count": 17,
   "id": "569f067d-9579-45e4-9bc4-b4198f753c32",
   "metadata": {},
   "outputs": [],
   "source": [
    "import numpy as np\n",
    "from numpy import random"
   ]
  },
  {
   "cell_type": "markdown",
   "id": "38fa8d33-10c9-4836-b3cc-fb10bf9f737a",
   "metadata": {},
   "source": [
    "<center> <h3> 1.2. NumPy Random Package </h3> </center>\n",
    "\n",
    "The NumPy random module provides methods of obtaining random numbers following any of several statistical distributions, as well as methods of choosing random elements from and shuffling arrays. "
   ]
  },
  {
   "cell_type": "markdown",
   "id": "3a2e09a2-6616-447f-8851-7c2a46494961",
   "metadata": {},
   "source": [
    "<center> <h4>Applications of Random Numbers to Data Science</h4> </center>\n",
    "\n",
    "Randomness is one of the key concepts underpinning the field of statistics. It is a phenomenon where the outcome of a single repetition is uncertain, yet in a large number of repititions a regular distribution of outcomes is observed, e.g. the bell curve that characterizes the normal distribution. \n",
    "\n",
    "A random number is one generated using a large set of numbers and a mathematical algorithm that ensures an equal probability that any of the numbers within the specified distribution will be selected. The ability to generate random numbers is paramount within the fields of data science and machine learning.\n",
    "\n",
    "Sample use cases for random number generation are listed below.\n",
    "\n",
    "1. The collection of sample data generally entails picking truly random data points from the population; the more random these points are, the better representative they are of the population. However, if the distribution of data for which the model is being developed is already known, it may not be necessary to collect data if random numbers matching the distribution can be generated. For example, if we know the mileage of a car follows a normal distribution, we can generate random numbers following a normal distribution for a study. This process is called simulation.\n",
    "2. When developing a machine learning model, data is split into training and testing data, with 80% going to the former category and 20% to the latter. This splitting of data must be random for the model to perform efficiently.\n",
    "3. Neural network algorithms, which are sets of algorithms modelled loosely on the human brain and designed to recognize patterns, also rely on randomness. A neural network is made up of interconnected nodes. The strength of the connection between two nodes is the weight, i.e. the influence that the input should have on the output. Neural network algorithms are initialized with random weights and with each epoch (passing of the enitre dataset through the neural network) the value is changed to reduce error and increase accuracy.\n"
   ]
  },
  {
   "cell_type": "markdown",
   "id": "005c64e9-c73c-46aa-9c99-6b66bab1041e",
   "metadata": {},
   "source": [
    "<center> <h4>True Random and Pseudorandom Number Generation</h4> </center>"
   ]
  },
  {
   "cell_type": "markdown",
   "id": "5f920836-4215-4499-ba26-e95717c17e19",
   "metadata": {},
   "source": [
    "Two types of random number generation exist: True Random and Pseudorandom Number Genration (TRNG/PRNG).\n",
    "\n",
    "The majority of computer programs, including the NumPy random package, rely on Pseudorandom Number Generation. This is because computers are deterministic, which means that the same input will always produce the same output. Pseudorandom number generators, such as those used by the random module, are algorithms that generate apparently random, yet reproducible data. The pseudorandom number generator starts with an integer called a seed, and then generates numbers in succession according to the specified distribution. The same seed will provide the same sequence of random numbers, hence if the seed is set at the start of a programme, the numbers generated will be reproducible. The below code sets the seed and creates an array with 10 random numbers between 1 and 10. Each time this code is run the output will be the same. "
   ]
  },
  {
   "cell_type": "code",
   "execution_count": 18,
   "id": "40a19833-5ba0-4ce8-9c4c-0cbac0d806d4",
   "metadata": {},
   "outputs": [
    {
     "name": "stdout",
     "output_type": "stream",
     "text": [
      "[8 9 6 8 6]\n"
     ]
    }
   ],
   "source": [
    "import numpy as np\n",
    "from numpy import random\n",
    "np.random.seed(55)\n",
    "random_numbers = np.random.randint(1, 10, size = 5)\n",
    "print(random_numbers)"
   ]
  },
  {
   "cell_type": "markdown",
   "id": "1db67fbd-b428-41f3-9d9c-93554af85aaf",
   "metadata": {},
   "source": [
    "Conversely, true random number generators cannot rely on computer algorithms as by their nature these will always be deterministic. Instead, TRNGs extract randomness from physical phenomena and introduce it to a computer. Potential sources may include time between keystrokes or the movement pattern of a mouse, or naturally occuring phenomena like radioactive decay. The generation of truly random numbers from these sources relies on the identification of small, unpredictable changes within a dataset. Some fields, like cryptography, require the generation of true random numbers. However, TRNGS are inefficent compared to PRNGS, and for applications like data simulation and modelling reproducibility can be an advantage. Hence, PRNGS such as those used in the NumPy random package are more applicable to the field of data science."
   ]
  },
  {
   "cell_type": "markdown",
   "id": "a2a6620d-3366-441b-a055-ccb1a50f8664",
   "metadata": {},
   "source": [
    "<center> <h4>NumPy Random vs Python Random</h4> </center>"
   ]
  },
  {
   "cell_type": "markdown",
   "id": "d350d0d0-352e-4d62-bdf2-8d2943aa36ca",
   "metadata": {},
   "source": [
    "<center> <h2> Part 2:  Simple Random Data and Permutations </h2> </center>"
   ]
  },
  {
   "cell_type": "markdown",
   "id": "5ac25c7b-220b-4783-971b-14d7d297713e",
   "metadata": {},
   "source": [
    "<center> <h3> Simple Random Data </h3> </center>\n",
    "\n",
    "Simple Random data refers to a set of functions that can be used for simple random sampling. A simple random sample takes a small, random  portion of the entire population, where each member has an equal chance of being selected. This portion is considered representative of the dataset as a whole.\n",
    "\n",
    "Four main functions exist for simple random data sampling in NumPy. Using these functions, both discrete and continuous variables can be generated from within the uniform distribution. Continuous variables (floats) are those that can take on an infinite number of values and would therefore take forever to count, whereas discrete variables are countable in a finite amount of time (integers). In addition to generating data from the uniform distribution, simple random functions also allow for sampling of random elements from a given array and the generation of random bytes."
   ]
  },
  {
   "cell_type": "markdown",
   "id": "dc45f708-967a-436f-aafa-498535de4347",
   "metadata": {},
   "source": [
    "<center> <h4> Integers </h4> </center>\n",
    "\n",
    "This function allows for the generation of continuous variables, i.e. integers, from within the uniform distribution. The uniform distribution is defined by two parameters, a and b, where a is the minimum and b is the maximum, and there is an equal probabality that any value between a and b can be chosen, i.e. constant probability. The function takes one mandatory parameter, the minimum value. Optionally, a maximum value can be specified; if this is not supplied, the function will return just one value. "
   ]
  }
 ],
 "metadata": {
  "kernelspec": {
   "display_name": "Python 3 (ipykernel)",
   "language": "python",
   "name": "python3"
  },
  "language_info": {
   "codemirror_mode": {
    "name": "ipython",
    "version": 3
   },
   "file_extension": ".py",
   "mimetype": "text/x-python",
   "name": "python",
   "nbconvert_exporter": "python",
   "pygments_lexer": "ipython3",
   "version": "3.8.12"
  }
 },
 "nbformat": 4,
 "nbformat_minor": 5
}
