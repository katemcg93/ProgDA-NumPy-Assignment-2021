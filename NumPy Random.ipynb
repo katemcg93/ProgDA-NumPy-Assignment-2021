{
 "cells": [
  {
   "cell_type": "markdown",
   "id": "57764a58-aedd-4e14-93a2-5e221ec4662d",
   "metadata": {},
   "source": [
    "<center> <h1> Programming for Data Analytics 2021 NumPy Assignment </h1> </center>"
   ]
  },
  {
   "cell_type": "markdown",
   "id": "119851bf-d88e-4f22-8ea3-7afbde7afe51",
   "metadata": {},
   "source": [
    "<div align=\"center\"> <b> Student Name: Kate McGrath </b> </div>\n",
    "<div align=\"center\"> <b> Student Number: G00398908 </b>  </div>\n",
    "<div align=\"center\"> <b> Submission Date: 19/11/2021 </b> </div>"
   ]
  },
  {
   "cell_type": "markdown",
   "id": "0e791a22-2873-4d78-947c-346843eb39a6",
   "metadata": {},
   "source": [
    "<center> <h2> Part One: Purpose of NumPy Random Package </h2> </center>"
   ]
  },
  {
   "cell_type": "markdown",
   "id": "26aca4de-399a-4dfc-a360-1aee24b545e0",
   "metadata": {},
   "source": [
    "<center> <h3> 1.1. Introduction to NumPy (Numerical Python) </h3> </center>\n",
    "\n",
    "\n",
    "\n"
   ]
  },
  {
   "cell_type": "markdown",
   "id": "1c7cdf8f-94cb-4228-bbec-4e7afcfa06b1",
   "metadata": {},
   "source": [
    "NumPy, or Numerical Python, is one of the most widely used scientific libraries in Python programming [1].\n",
    "\n",
    "An open-source library, created in 2005 by Travis Oliphant [2], it has become the de facto standard for working with numerical data in Python, and is used by everyone from beginners to experienced researchers at the cutting edge of scientific and commercial R&D [3]. Additionally, several other Python analytical libraries have been built on top of NumPy, including Pandas, Scikit-learn and Matplotlib [1]. \n",
    "\n",
    "<center> <h4>Multidimensional Arrays</h4> </center>\n",
    "\n",
    "NumPy's core object is the multidimensional array (ndarray), which is essentially a fast and flexible container, built to facilitate batch numerical operations on blocks of data.The key advantage of using NumPy arrays for numerical computations rather than Python lists is that the former is designed for efficiency on large arrays of data. \n",
    "\n",
    "NumPy arrays can be considered as a grid of values, with a defined number of rows and columns.  In the NumPy package, rows and columns are referred to as dimensions. A vector consists of a single dimension, a matrix contains two dimensions, and a tensor comprises three or more dimensions.  Each dimension has a corresponding axis, starting at index [0]. Axes are used to locate and operate on elements within a specific dimension.\n",
    "\n",
    "Run the below code to see examples of one, two and three-dimensional arrays.\n"
   ]
  },
  {
   "cell_type": "code",
   "execution_count": 8,
   "id": "e577c0d2-f887-48f6-a6a3-5d4ba022eba3",
   "metadata": {
    "collapsed": true,
    "jupyter": {
     "outputs_hidden": true,
     "source_hidden": true
    },
    "tags": []
   },
   "outputs": [
    {
     "name": "stdout",
     "output_type": "stream",
     "text": [
      "[1 2 3]\n",
      "[[1 2]\n",
      " [3 4]]\n",
      "[[1 2]\n",
      " [3 4]\n",
      " [5 6]]\n"
     ]
    }
   ],
   "source": [
    "oneDArray = np.array ([1,2,3])\n",
    "print(oneDArray)\n",
    "\n",
    "twoDArray = np.array ([(1,2), (3,4)])\n",
    "print(twoDArray)\n",
    "\n",
    "threeDArray = np.array ([(1,2), (3,4), (5,6)])\n",
    "print(threeDArray)"
   ]
  },
  {
   "cell_type": "markdown",
   "id": "0490e0e0-6037-431a-af54-dca07017b90f",
   "metadata": {},
   "source": [
    "<center> <h4>NumPy Arrays vs Python Lists</h4> </center>\n",
    "\n",
    "NumPy arrays are significantly faster than Python lists for the following reasons:\n",
    "\n",
    "1. NumPy arrays are homogeneous, i.e. consisting of a single data type and allocated to a continuous block of memory (continuous). To access the next element stored in an array, the programme simply needs to move to the next memory address. In contrast, Python lists are heterogeneous (not confined to a single data type) and stored in non-consecutive memory locations; both of these factors contribute to processing overhead.\n",
    "2. The NumPy package breaks down a task into multiple fragments and processes them in parallel. \n",
    "3. NumPy incorporates elements of the C, C++ and Fortran programming languages in Python. These are low level languages and therefore have a reduced execution time compared to Python.\n",
    "\n",
    "In addition to the speed advantages, NumPy arrays allow for operations on singular elements within the array without requiring loops, and consume less memory than their Python list counterparts. The below code illustrates the performance advantages of NumPy arrays over python lists, in terms of speed and memory usage. "
   ]
  },
  {
   "cell_type": "code",
   "execution_count": 5,
   "id": "ee2bd385-1e95-413b-afee-f3860aaa73b9",
   "metadata": {
    "collapsed": true,
    "jupyter": {
     "outputs_hidden": true,
     "source_hidden": true
    },
    "tags": []
   },
   "outputs": [
    {
     "name": "stdout",
     "output_type": "stream",
     "text": [
      "Time taken to complete in seconds: 0.5237135887145996\n",
      "Time taken to complete in seconds: 0.0019936561584472656\n",
      "Time difference in seconds: 0.5217199325561523\n",
      "Total memory consumed by Python List: 8697456 bytes\n",
      "Total memory consumed by Numpy Array: 4000104 bytes\n",
      "Memory difference in bytes: 4697352\n"
     ]
    }
   ],
   "source": [
    "\n",
    "\n",
    "\n",
    "import numpy as np\n",
    "import time\n",
    "from sys import getsizeof\n",
    "\n",
    "size = 1000000\n",
    "\n",
    "list1 = range(size)\n",
    "list2 = range(size)\n",
    "\n",
    "#Need to get current time to second to subtract from time taken to complete operation\n",
    "startTime = time.time()\n",
    "\n",
    "newlist = []\n",
    "\n",
    "#This code is zipping list 1 and 2 together - mapping each list1 value to its corresponding list2 value and multiplying them\n",
    "#Then adding them to new list\n",
    "for a,b in zip(list1,list2):\n",
    "    newlist.append(a*b)\n",
    "\n",
    "TimeNow = time.time()\n",
    "TimeTaken = TimeNow - startTime\n",
    "print(\"Time taken to complete in seconds: {}\".format(TimeTaken))\n",
    "\n",
    "#Declaring Arrays\n",
    "array1 = np.arange(size)  \n",
    "array2 = np.arange(size)\n",
    "\n",
    "startTimeNumpy = time.time()\n",
    "\n",
    "NewArray = array1* array2\n",
    "\n",
    "TimeNowNumpy = time.time()\n",
    "TimeTakenNumpy = TimeNowNumpy - startTimeNumpy\n",
    "print(\"Time taken to complete in seconds: {}\".format(TimeTakenNumpy))\n",
    "print(\"Time difference in seconds: {}\".format(TimeTaken - TimeTakenNumpy))\n",
    "\n",
    "\n",
    "#Checking difference in memory consumption between numpy array and python list\n",
    "totalMemoryList = getsizeof(newlist)\n",
    "totalMemoryNumpy = getsizeof(NewArray)\n",
    "\n",
    "print(\"Total memory consumed by Python List: {} bytes\".format(totalMemoryList))\n",
    "print(\"Total memory consumed by Numpy Array: {} bytes\".format(totalMemoryNumpy))\n",
    "print(\"Memory difference in bytes: {}\".format(totalMemoryList - totalMemoryNumpy))"
   ]
  },
  {
   "cell_type": "markdown",
   "id": "e1ac7f45-ef7d-4e18-8dca-abc5e0e0ab19",
   "metadata": {},
   "source": [
    "<center> <h4>Getting Started with NumPy</h4> </center>\n"
   ]
  },
  {
   "cell_type": "markdown",
   "id": "c7b9cef0-4a57-4601-82b9-ce7c618b5da7",
   "metadata": {},
   "source": [
    "The only prerequisite to installing NumPy is Python itself. For convenience, the Anaconda distribution is recommended for beginners as it comes with NumPy, Python and other statistical Python packages pre-installed. \n",
    "\n",
    "To install NumPy on its own, the following command can be used:"
   ]
  },
  {
   "cell_type": "code",
   "execution_count": 19,
   "id": "98356333-d917-42fc-8774-1518a36314ea",
   "metadata": {
    "tags": []
   },
   "outputs": [
    {
     "name": "stdout",
     "output_type": "stream",
     "text": [
      "Requirement already satisfied: numpy in c:\\users\\owner\\anaconda3\\lib\\site-packages (1.20.1)\n",
      "Note: you may need to restart the kernel to use updated packages.\n"
     ]
    }
   ],
   "source": [
    "pip install numpy"
   ]
  },
  {
   "cell_type": "markdown",
   "id": "e5539d27-1048-46a5-8e81-e4fbf4ab5223",
   "metadata": {},
   "source": [
    "In order to use NumPy Random, the library should be imported using the following command:"
   ]
  },
  {
   "cell_type": "code",
   "execution_count": 17,
   "id": "569f067d-9579-45e4-9bc4-b4198f753c32",
   "metadata": {},
   "outputs": [],
   "source": [
    "import numpy as np\n",
    "from numpy import random"
   ]
  },
  {
   "cell_type": "markdown",
   "id": "38fa8d33-10c9-4836-b3cc-fb10bf9f737a",
   "metadata": {},
   "source": [
    "<center> <h3> 1.2. NumPy Random Package </h3> </center>\n",
    "\n",
    "The NumPy random module provides methods of obtaining random numbers following any of several statistical distributions, as well as methods of choosing random elements from and shuffling arrays. "
   ]
  },
  {
   "cell_type": "markdown",
   "id": "3a2e09a2-6616-447f-8851-7c2a46494961",
   "metadata": {
    "jp-MarkdownHeadingCollapsed": true,
    "tags": []
   },
   "source": [
    "<center> <h4>Applications of Random Numbers to Data Science</h4> </center>\n",
    "\n",
    "Randomness is one of the key concepts underpinning the field of statistics. It is a phenomenon where the outcome of a single repetition is uncertain, yet in a large number of repititions a regular distribution of outcomes is observed, e.g. the bell curve that characterizes the normal distribution. \n",
    "\n",
    "A random number is one generated using a large set of numbers and a mathematical algorithm that ensures an equal probability that any of the numbers within the specified distribution will be selected. The ability to generate random numbers is paramount within the fields of data science and machine learning.\n",
    "\n",
    "Sample use cases for random number generation are listed below.\n",
    "\n",
    "1. The collection of sample data generally entails picking truly random data points from the population; the more random these points are, the better representative they are of the population. However, if the distribution of data for which the model is being developed is already known, it may not be necessary to collect data if random numbers matching the distribution can be generated. For example, if we know the mileage of a car follows a normal distribution, we can generate random numbers following a normal distribution for a study. This process is called simulation.\n",
    "2. When developing a machine learning model, data is split into training and testing data, with 80% going to the former category and 20% to the latter. This splitting of data must be random for the model to perform efficiently.\n",
    "3. Neural network algorithms, which are sets of algorithms modelled loosely on the human brain and designed to recognize patterns, also rely on randomness. A neural network is made up of interconnected nodes. The strength of the connection between two nodes is the weight, i.e. the influence that the input should have on the output. Neural network algorithms are initialized with random weights and with each epoch (passing of the enitre dataset through the neural network) the value is changed to reduce error and increase accuracy.\n"
   ]
  },
  {
   "cell_type": "markdown",
   "id": "005c64e9-c73c-46aa-9c99-6b66bab1041e",
   "metadata": {},
   "source": [
    "<center> <h4>True Random and Pseudorandom Number Generation</h4> </center>"
   ]
  },
  {
   "cell_type": "markdown",
   "id": "5f920836-4215-4499-ba26-e95717c17e19",
   "metadata": {},
   "source": [
    "Two types of random number generation exist: True Random and Pseudorandom Number Genration (TRNG/PRNG).\n",
    "\n",
    "The majority of computer programs, including the NumPy random package, rely on Pseudorandom Number Generation. This is because computers are deterministic, which means that the same input will always produce the same output. Pseudorandom number generators, such as those used by the random module, are algorithms that generate apparently random, yet reproducible data. The pseudorandom number generator starts with an integer called a seed, and then generates numbers in succession according to the specified distribution. The same seed will provide the same sequence of random numbers, hence if the seed is set at the start of a programme, the numbers generated will be reproducible. The below code sets the seed and creates an array with 10 random numbers between 1 and 10. Each time this code is run the output will be the same. "
   ]
  },
  {
   "cell_type": "code",
   "execution_count": 18,
   "id": "40a19833-5ba0-4ce8-9c4c-0cbac0d806d4",
   "metadata": {
    "jupyter": {
     "source_hidden": true
    },
    "tags": []
   },
   "outputs": [
    {
     "name": "stdout",
     "output_type": "stream",
     "text": [
      "[8 9 6 8 6]\n"
     ]
    }
   ],
   "source": [
    "import numpy as np\n",
    "from numpy import random\n",
    "np.random.seed(55)\n",
    "random_numbers = np.random.randint(1, 10, size = 5)\n",
    "print(random_numbers)"
   ]
  },
  {
   "cell_type": "markdown",
   "id": "1db67fbd-b428-41f3-9d9c-93554af85aaf",
   "metadata": {},
   "source": [
    "Conversely, true random number generators cannot rely on computer algorithms as by their nature these will always be deterministic. Instead, TRNGs extract randomness from physical phenomena and introduce it to a computer. Potential sources may include time between keystrokes or the movement pattern of a mouse, or naturally occuring phenomena like radioactive decay. The generation of truly random numbers from these sources relies on the identification of small, unpredictable changes within a dataset. Some fields, like cryptography, require the generation of true random numbers. However, TRNGS are inefficent compared to PRNGS, and for applications like data simulation and modelling reproducibility can be an advantage. Hence, PRNGS such as those used in the NumPy random package are more applicable to the field of data science."
   ]
  },
  {
   "cell_type": "markdown",
   "id": "d350d0d0-352e-4d62-bdf2-8d2943aa36ca",
   "metadata": {},
   "source": [
    "<center> <h2> Part 2:  Simple Random Data and Permutations </h2> </center>"
   ]
  },
  {
   "cell_type": "markdown",
   "id": "5ac25c7b-220b-4783-971b-14d7d297713e",
   "metadata": {
    "tags": []
   },
   "source": [
    "<center> <h3> Simple Random Data </h3> </center>\n",
    "\n",
    "Simple Random data refers to a set of functions that can be used for simple random sampling. A simple random sample takes a small, random  portion of the entire population, where each member has an equal chance of being selected. This portion is considered representative of the dataset as a whole.\n",
    "\n",
    "Four main functions for simple random sampling are included in NumPy. These are as follows:\n",
    "\n",
    "1. integers : Returns random integers from the discrete uniform distribution.\n",
    "2. random: Returns random floats from the continuous normal distribution.\n",
    "3. choice: Generates a random sample from within a given NumPy array\n",
    "4. bytes: Generates a random string of bytes"
   ]
  },
  {
   "cell_type": "markdown",
   "id": "dc45f708-967a-436f-aafa-498535de4347",
   "metadata": {
    "tags": []
   },
   "source": [
    "<center> <h4>1.  numpy.random.Generator.integers </h4> </center>\n",
    "\n",
    "This function generates a sample of integers from the discrete uniform distribution. \n",
    "\n",
    "The uniform distribution is defined by two parameters, a and b, where a is the minimum and b is the maximum, and there is an equal probabality that any value between a and b can be chosen. \n",
    "\n",
    "In the discrete normal distribution, the values between a and b are finite/countable, as illustrated by the below probability distribution.\n",
    "\n",
    "![Discrete Uniform Probability Distribution](https://www.statisticshowto.com/wp-content/uploads/2013/09/Uniform_discrete_pmf_svg.svg_.png)"
   ]
  },
  {
   "cell_type": "markdown",
   "id": "8490d00f-ad1c-4f00-bcdd-6e0bcd5694e9",
   "metadata": {
    "tags": []
   },
   "source": [
    "The syntax for the function is as follows:\n",
    "\n",
    "***random.Generator.integers(low, high=None, size=None, dtype=np.int64, endpoint=False)***\n",
    "\n",
    "1. Generator: Generates random numbers within the given distribution and value range. Relies on a bit generator, which generates the random numbers and manages the state, and uses the generated numbers to sample from different probability distributions.\n",
    "2. low = Mandatory parameter, minimum value for sampling.\n",
    "3. high = Default none, maximum value\n",
    "4. size = Default none, number of elements to return. If size is not specified, a single integer will be returned\n",
    "5. dtype = Data type of returned elements, defaults to int64 - signed integer data type that can store a maximum of 64 bits\n",
    "6. endpoint = Boolean, if true sample from low (inclusive) to high (inclusive), if false sample from low (inclusive) to high (exclusive)"
   ]
  },
  {
   "cell_type": "markdown",
   "id": "f5a91eda-a9c3-481d-aeec-a37535289dd0",
   "metadata": {
    "tags": []
   },
   "source": [
    "The below code uses the random integers function to generate sets of numbers between 1 and 5 of various sample sizes and plots the returned arrays on histograms."
   ]
  },
  {
   "cell_type": "code",
   "execution_count": null,
   "id": "bef529c3-9f83-425a-9ceb-cd5cedd43e6f",
   "metadata": {
    "jupyter": {
     "source_hidden": true
    },
    "tags": []
   },
   "outputs": [],
   "source": [
    "import numpy as np\n",
    "from numpy import random\n",
    "import seaborn as sns\n",
    "import matplotlib.pyplot as plt\n",
    "\n",
    "#Setting up generator to use default bit generator - PCG64\n",
    "rng = np.random.default_rng(12345)\n",
    "\n",
    "#Uniform Distribution\n",
    "#Generating multiple plots to show effect of sample size\n",
    "#Expect that as sample size increases, plot will more closely resemble a uniform distribution - \n",
    "#equal probability that any of the numbers between 1 and 5 will be chosen\n",
    "uniformdist10 = rng.integers(size = 10, low = 1, high =5)\n",
    "uniformdist1000 = rng.integers(size = 1000, low = 1, high =5)\n",
    "uniformdist10000 = rng.integers(size = 10000, low = 1, high = 5)\n",
    "uniformdist100000 = rng.integers(size = 100000 , low = 1, high = 5) \n",
    "\n",
    "fig, ((ax1, ax2), (ax3, ax4)) = plt.subplots(2, 2)\n",
    "plt.suptitle(\"Effect of Sample Size on Uniform Distribution\")\n",
    "ax1.hist(uniformdist10, color = '#7A82AB')\n",
    "ax1.set_title(\"10 Samples\")\n",
    "ax2.hist(uniformdist1000, color = '#307473')\n",
    "ax2.set_title(\"1000 Samples\")\n",
    "ax3.hist(uniformdist10000, color = '#12664F')\n",
    "ax3.set_title(\"10000 Samples\")\n",
    "ax4.hist(uniformdist100000, color = '#C6D4FF')\n",
    "ax4.set_title(\"100000 Samples\")\n",
    "plt.tight_layout()\n",
    "plt.savefig(\"uniform distribution.png\")\n",
    "plt.close()"
   ]
  },
  {
   "attachments": {
    "ddb3a6e1-37bf-410f-8408-99835d25ddbb.png": {
     "image/png": "[encoded data removed]"
    }
   },
   "cell_type": "markdown",
   "id": "3b2ea852-6d89-41b3-afd3-022446d26df8",
   "metadata": {},
   "source": [
    "As seen in the resulting plot, the greater the sample size, the more closely the samples match the discrete uniform distribution. \n",
    "\n",
    "![uniform distribution.png](attachment:ddb3a6e1-37bf-410f-8408-99835d25ddbb.png)"
   ]
  },
  {
   "cell_type": "markdown",
   "id": "0bd1f956-741c-44cf-9b0b-2194c97f6bfc",
   "metadata": {},
   "source": [
    "<center> <h4>2.  numpy.random.Generator.random </h4> </center>"
   ]
  },
  {
   "cell_type": "markdown",
   "id": "aff1b295-75b5-459c-b5c1-52a9bdf04b5d",
   "metadata": {},
   "source": [
    "This function draws samples from the continuous uniform distribution.\n",
    "\n",
    "The syntax for this function is as follows:\n",
    "\n",
    "***random.Generator.random(size=None, dtype=np.float64, out=None)***\n",
    "\n",
    "out = array in which to place the returned output if required. \n",
    "\n",
    "As with the discrete uniform distribution, this probability distribution is characterised by a minimum and maximum value, and there is an equal probability that any value between these two values will be selected. However, the values between a and b in a continuous distribution are not easily countable, resulting in a probability distribution without defined points that resembles a rectangle in shape.\n",
    "\n",
    "This is illustrated by the below distribution, where a = 1 and b = 3. \n",
    "\n",
    "![Continuous Uniform Probability Distribution](https://www.statisticshowto.com/wp-content/uploads/2013/09/uniform-distribution-a-b.jpg)\n",
    "\n",
    "By default the function will return floats in the half-interval [0.0,1.0]. This means that the endpoint, 1.0, will not be returned.\n",
    "\n",
    "To sample numbers from a wider distribution, the elements in the ouptut array should be multiplied by (b-a) and then a should be added, where a is the minimum value and b is the maximum. For example, the below code returns a three dimensional array, with each dimension containing two floats between 1 and 5. "
   ]
  },
  {
   "cell_type": "code",
   "execution_count": 6,
   "id": "fb71da92-eebf-4179-b37f-1ea601fb6e94",
   "metadata": {},
   "outputs": [
    {
     "name": "stdout",
     "output_type": "stream",
     "text": [
      "[[1.13668011 1.5837917 ]\n",
      " [3.98682729 3.38127335]\n",
      " [1.95554775 1.66406964]]\n"
     ]
    }
   ],
   "source": [
    "rng = np.random.default_rng(12345)\n",
    "random_floats = 5 * rng.random((3, 2)) + 0\n",
    "print(random_floats)"
   ]
  },
  {
   "attachments": {
    "871656e6-cc98-454c-9fd1-44a2be305cdb.png": {
     "image/png": "[encoded data removed]"
    }
   },
   "cell_type": "markdown",
   "id": "007d6259-7e0c-40cb-9354-e6114c3a4ac1",
   "metadata": {},
   "source": [
    "The below code uses the random function to create floats between 1 and 5 of increasing sample sizes. As seen with the integers function, as the sample size increases the distribution more closely resembles the rectangular shape of the continuous uniform distribution. \n",
    "\n",
    "![ct_uniform distribution.png](attachment:871656e6-cc98-454c-9fd1-44a2be305cdb.png)"
   ]
  },
  {
   "cell_type": "code",
   "execution_count": null,
   "id": "36b34aa2-46a7-4a73-8889-a1884f569a93",
   "metadata": {
    "jupyter": {
     "source_hidden": true
    },
    "tags": []
   },
   "outputs": [],
   "source": [
    "ct_uniform10 = 5 * rng.random (10) + 0\n",
    "ct_uniform1000 = 5 * rng.random (1000) + 0\n",
    "ct_uniform10000 = 5 * rng.random (10000) + 0\n",
    "ct_uniform100000 = 5 * rng.random (100000) + 0\n",
    "\n",
    "fig, ((ax1, ax2), (ax3, ax4)) = plt.subplots(2, 2)\n",
    "plt.suptitle(\"Effect of Sample Size on Uniform Distribution\")\n",
    "ax1.hist(ct_uniform10, color = '#7A82AB')\n",
    "ax1.set_title(\"10 Samples\")\n",
    "ax2.hist(ct_uniform1000, color = '#307473')\n",
    "ax2.set_title(\"1000 Samples\")\n",
    "ax3.hist(ct_uniform10000, color = '#12664F')\n",
    "ax3.set_title(\"10000 Samples\")\n",
    "ax4.hist(ct_uniform10000, color = '#C6D4FF')\n",
    "ax4.set_title(\"100000 Samples\")\n",
    "plt.tight_layout()\n",
    "plt.savefig(\"ct_uniform distribution.png\")\n",
    "plt.close()"
   ]
  },
  {
   "cell_type": "markdown",
   "id": "15a7e808-52ab-4b74-a69d-afe385b9aef8",
   "metadata": {},
   "source": [
    "<center> <h4>3.  numpy.random.Generator.choice</h4> </center>"
   ]
  },
  {
   "cell_type": "markdown",
   "id": "1ac34be0-ba4c-4db1-a662-d1d26e2ae8d8",
   "metadata": {},
   "source": [
    "This function is used to obtain a random sample of elements from a given NumPy array and returns a new array with the selected values. \n",
    "\n",
    "The syntax for this function is as follows:\n",
    "\n",
    "random.Generator.choice(a, size=None, replace=True, p=None, axis=0, shuffle=True)\n",
    "\n",
    "1. a = array from which samples should be taken\n",
    "2. replace = if this is set to False, after an element is selected it will be removed from the original array and replaced with another value. If set to True, the same element may be selected multiple times.\n",
    "3. p = probability for each element in the array. If this is supplied, elements will be selected from the array based on the assigned probability of that element. If not supplied, a uniform probability distribution is assumed for each of the elements in the array.\n",
    "4. Axis = The axis of the ndarry that is used for selection. By default, this parameter is set to 0, meaning selection will be across the rows of the array. To select vertically/column wise, the value for axis should be increased accordingly. "
   ]
  },
  {
   "cell_type": "markdown",
   "id": "7402b3f9-624b-4261-a251-a3846d7be541",
   "metadata": {},
   "source": [
    "The below code generates two single dimensional arrays containing 1000 elements each, ranging between 1 and 5. The first array retains the standard uniform distribution and the probability values for each element are set for the second array. The two arrays are plotted to illustrate the effect of the probability settings. "
   ]
  },
  {
   "cell_type": "code",
   "execution_count": 7,
   "id": "d7767078-f211-4724-9a57-5742f5bab60a",
   "metadata": {
    "collapsed": true,
    "jupyter": {
     "outputs_hidden": true
    },
    "tags": []
   },
   "outputs": [
    {
     "ename": "NameError",
     "evalue": "name 'plt' is not defined",
     "output_type": "error",
     "traceback": [
      "\u001b[1;31m---------------------------------------------------------------------------\u001b[0m",
      "\u001b[1;31mNameError\u001b[0m                                 Traceback (most recent call last)",
      "\u001b[1;32m~\\AppData\\Local\\Temp/ipykernel_472/2634981294.py\u001b[0m in \u001b[0;36m<module>\u001b[1;34m\u001b[0m\n\u001b[0;32m      2\u001b[0m \u001b[0mstandard_probability\u001b[0m \u001b[1;33m=\u001b[0m \u001b[0mrng\u001b[0m\u001b[1;33m.\u001b[0m\u001b[0mchoice\u001b[0m\u001b[1;33m(\u001b[0m\u001b[1;36m5\u001b[0m\u001b[1;33m,\u001b[0m \u001b[1;36m1000\u001b[0m\u001b[1;33m)\u001b[0m\u001b[1;33m\u001b[0m\u001b[1;33m\u001b[0m\u001b[0m\n\u001b[0;32m      3\u001b[0m \u001b[1;33m\u001b[0m\u001b[0m\n\u001b[1;32m----> 4\u001b[1;33m \u001b[0mfig\u001b[0m\u001b[1;33m,\u001b[0m \u001b[1;33m(\u001b[0m\u001b[1;33m(\u001b[0m\u001b[0max1\u001b[0m\u001b[1;33m)\u001b[0m\u001b[1;33m,\u001b[0m \u001b[1;33m(\u001b[0m\u001b[0max2\u001b[0m\u001b[1;33m)\u001b[0m\u001b[1;33m)\u001b[0m \u001b[1;33m=\u001b[0m \u001b[0mplt\u001b[0m\u001b[1;33m.\u001b[0m\u001b[0msubplots\u001b[0m\u001b[1;33m(\u001b[0m\u001b[1;36m1\u001b[0m\u001b[1;33m,\u001b[0m \u001b[1;36m2\u001b[0m\u001b[1;33m)\u001b[0m\u001b[1;33m\u001b[0m\u001b[1;33m\u001b[0m\u001b[0m\n\u001b[0m\u001b[0;32m      5\u001b[0m \u001b[0max1\u001b[0m\u001b[1;33m.\u001b[0m\u001b[0mhist\u001b[0m\u001b[1;33m(\u001b[0m\u001b[0mstandard_probability\u001b[0m\u001b[1;33m,\u001b[0m \u001b[0mcolor\u001b[0m \u001b[1;33m=\u001b[0m \u001b[1;34m'#7A82AB'\u001b[0m\u001b[1;33m)\u001b[0m\u001b[1;33m\u001b[0m\u001b[1;33m\u001b[0m\u001b[0m\n\u001b[0;32m      6\u001b[0m \u001b[0max1\u001b[0m\u001b[1;33m.\u001b[0m\u001b[0mset_title\u001b[0m\u001b[1;33m(\u001b[0m\u001b[1;34m\"Uniform Probability\"\u001b[0m\u001b[1;33m)\u001b[0m\u001b[1;33m\u001b[0m\u001b[1;33m\u001b[0m\u001b[0m\n",
      "\u001b[1;31mNameError\u001b[0m: name 'plt' is not defined"
     ]
    }
   ],
   "source": [
    "selected_probability = rng.choice(5, 1000, p = [0.0, 0.0,0.2,0.0, 0.8])\n",
    "standard_probability = rng.choice(5, 1000)\n",
    "\n",
    "fig, ((ax1), (ax2)) = plt.subplots(1, 2)\n",
    "ax1.hist(standard_probability, color = '#7A82AB')\n",
    "ax1.set_title(\"Uniform Probability\")\n",
    "ax2.hist(selected_probability, color = '#307473')\n",
    "ax2.set_title(\"Non Uniform Probability\")\n",
    "plt.savefig(\"prob_choice.png\")"
   ]
  },
  {
   "attachments": {
    "c9caf467-fb37-494f-a4a2-b72d7f5950ff.png": {
     "image/png": "[encoded data removed]"
    }
   },
   "cell_type": "markdown",
   "id": "cf7bca93-e784-400c-aa94-c193b0ecb905",
   "metadata": {},
   "source": [
    "As seen below, for the second plot only the third and fifth elements are selected as the probability for the other three elements is set to 0. 200 samples are generated for the third element and 800 for the fifth, in line with their assigned probabilities of 0.2 and 0.8 respectively. \n",
    "\n",
    "![prob_choice.png](attachment:c9caf467-fb37-494f-a4a2-b72d7f5950ff.png)"
   ]
  },
  {
   "cell_type": "markdown",
   "id": "6444e9a9-c0b6-4e64-91af-040a45008dcb",
   "metadata": {},
   "source": [
    "4. random.Generator.bytes\n",
    "\n",
    "This function returns a string containing a specified number of bytes. The bytes are encoded according to the ISO-8859-1 standard; each character is represented by a single byte. The below code generates 20 random bytes and decodes them to show the corresponding characters"
   ]
  },
  {
   "cell_type": "code",
   "execution_count": 21,
   "id": "a94c9e86-c059-42c8-8751-acf9eb6b175e",
   "metadata": {},
   "outputs": [
    {
     "name": "stdout",
     "output_type": "stream",
     "text": [
      "b'\\xb9|\\x9cq\\x16\\x9c*E\\xe2\\xc3(]\\x820jK}\\xd6\\x05\\xcd'\n",
      "¹|q\u0016*EâÃ(]0jK}Ö\u0005Í\n",
      "20\n"
     ]
    }
   ],
   "source": [
    "random_byte_array  = np.random.default_rng().bytes(20)\n",
    "print(random_byte_array)\n",
    "print(random_byte_array.decode('ISO-8859-1'))\n",
    "print(len(random_byte_array))"
   ]
  },
  {
   "cell_type": "code",
   "execution_count": null,
   "id": "ed7d9471-5823-4f72-ba23-bba601feeb39",
   "metadata": {},
   "outputs": [],
   "source": []
  },
  {
   "cell_type": "code",
   "execution_count": null,
   "id": "dd7c9835-01e7-47bd-ae5d-2f921b62e02c",
   "metadata": {},
   "outputs": [],
   "source": []
  }
 ],
 "metadata": {
  "kernelspec": {
   "display_name": "Python 3 (ipykernel)",
   "language": "python",
   "name": "python3"
  },
  "language_info": {
   "codemirror_mode": {
    "name": "ipython",
    "version": 3
   },
   "file_extension": ".py",
   "mimetype": "text/x-python",
   "name": "python",
   "nbconvert_exporter": "python",
   "pygments_lexer": "ipython3",
   "version": "3.8.12"
  }
 },
 "nbformat": 4,
 "nbformat_minor": 5
}
