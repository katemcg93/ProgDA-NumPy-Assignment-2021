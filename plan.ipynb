{
 "cells": [
  {
   "cell_type": "markdown",
   "id": "853aaf92-f3b0-4850-9cc4-9198840b53a5",
   "metadata": {},
   "source": [
    "Plan:\n",
    "    1. Overall function of Package\n",
    "        Introduce Numpy/explain what NdArrays are - attributes, basic commands for creating them. \n",
    "        code comparing lists and numpy arrays to show speed differences\n",
    "        Random number generation - explain its importance in data science. Give specific examples\n",
    "        Talk about how computers are incapable of generating truly random numbers,  and explain concept of pseudorandom numbers\n",
    "        Talk about limitations - cybersecurity\n",
    "     2. Simple Random Data vs Permutations\n",
    "        One line summary of differences - simple random data lets you create arrays using the random data functionality, give examples of \n",
    "        the functions and their output.\n",
    "        Permutations allows you to manipulate numpy arrays by reordering elements. Discuss difference between shuffle and random\n",
    "        permutations\n",
    "        \n",
    "\n",
    "\n",
    "\n",
    "\n",
    "\n",
    "\n",
    "\n",
    "\n",
    "\n",
    "\n",
    "\n",
    "\n",
    "\n",
    "\n",
    "\n",
    "\n",
    "\n",
    "\n",
    "\n",
    "\n",
    "\n",
    "\n",
    "\n",
    "\n",
    "\n",
    "\n",
    "\n",
    "\n",
    "\n",
    "\n",
    "\n",
    "\n",
    "\n",
    "\n",
    "\n",
    "\n",
    "\n",
    "\n"
   ]
  }
 ],
 "metadata": {
  "kernelspec": {
   "display_name": "Python 3 (ipykernel)",
   "language": "python",
   "name": "python3"
  },
  "language_info": {
   "codemirror_mode": {
    "name": "ipython",
    "version": 3
   },
   "file_extension": ".py",
   "mimetype": "text/x-python",
   "name": "python",
   "nbconvert_exporter": "python",
   "pygments_lexer": "ipython3",
   "version": "3.8.12"
  }
 },
 "nbformat": 4,
 "nbformat_minor": 5
}
